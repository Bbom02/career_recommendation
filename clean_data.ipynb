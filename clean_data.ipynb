{
 "cells": [
  {
   "cell_type": "code",
   "execution_count": 1,
   "metadata": {},
   "outputs": [],
   "source": [
    "%load_ext autoreload\n",
    "%autoreload 2\n",
    "\n",
    "from src.utils import preprocess\n",
    "import pandas as pd"
   ]
  },
  {
   "cell_type": "code",
   "execution_count": 2,
   "metadata": {},
   "outputs": [],
   "source": [
    "data = pd.read_csv('./data/rocket.csv')"
   ]
  },
  {
   "cell_type": "code",
   "execution_count": 3,
   "metadata": {},
   "outputs": [
    {
     "data": {
      "text/plain": [
       "(78135, 8)"
      ]
     },
     "execution_count": 3,
     "metadata": {},
     "output_type": "execute_result"
    }
   ],
   "source": [
    "data.shape"
   ]
  },
  {
   "cell_type": "code",
   "execution_count": 4,
   "metadata": {},
   "outputs": [],
   "source": [
    "data = preprocess.basic(data)"
   ]
  },
  {
   "cell_type": "code",
   "execution_count": 5,
   "metadata": {},
   "outputs": [
    {
     "data": {
      "text/plain": [
       "(44227, 7)"
      ]
     },
     "execution_count": 5,
     "metadata": {},
     "output_type": "execute_result"
    }
   ],
   "source": [
    "data.shape"
   ]
  },
  {
   "cell_type": "code",
   "execution_count": 6,
   "metadata": {},
   "outputs": [
    {
     "data": {
      "text/html": [
       "<div>\n",
       "<style scoped>\n",
       "    .dataframe tbody tr th:only-of-type {\n",
       "        vertical-align: middle;\n",
       "    }\n",
       "\n",
       "    .dataframe tbody tr th {\n",
       "        vertical-align: top;\n",
       "    }\n",
       "\n",
       "    .dataframe thead th {\n",
       "        text-align: right;\n",
       "    }\n",
       "</style>\n",
       "<table border=\"1\" class=\"dataframe\">\n",
       "  <thead>\n",
       "    <tr style=\"text-align: right;\">\n",
       "      <th></th>\n",
       "      <th>career</th>\n",
       "      <th>school</th>\n",
       "      <th>project</th>\n",
       "      <th>language</th>\n",
       "      <th>award</th>\n",
       "      <th>certificate</th>\n",
       "      <th>id</th>\n",
       "    </tr>\n",
       "  </thead>\n",
       "  <tbody>\n",
       "    <tr>\n",
       "      <th>0</th>\n",
       "      <td>경력\\n(2년 3개월)\\n    \\n    \\n      \\n        \\n  ...</td>\n",
       "      <td>학력\\n    \\n      \\n        \\n          \\n      ...</td>\n",
       "      <td>프로젝트\\n    \\n      \\n        \\n          홍보\\n, ...</td>\n",
       "      <td>언어\\n    \\n      \\n        영어\\n        \\n      ...</td>\n",
       "      <td></td>\n",
       "      <td>자격증\\n    \\n      \\n        Google Analytics In...</td>\n",
       "      <td>0</td>\n",
       "    </tr>\n",
       "    <tr>\n",
       "      <th>1</th>\n",
       "      <td>경력\\n\\n    \\n    \\n      \\n        \\n          ...</td>\n",
       "      <td></td>\n",
       "      <td></td>\n",
       "      <td></td>\n",
       "      <td></td>\n",
       "      <td></td>\n",
       "      <td>1</td>\n",
       "    </tr>\n",
       "    <tr>\n",
       "      <th>2</th>\n",
       "      <td>경력\\n(5년 8개월)\\n    \\n    \\n      \\n        \\n  ...</td>\n",
       "      <td>학력\\n    \\n      \\n        \\n          \\n      ...</td>\n",
       "      <td>프로젝트\\n    \\n      \\n        \\n          uWSGI\\...</td>\n",
       "      <td></td>\n",
       "      <td></td>\n",
       "      <td>자격증\\n    \\n      \\n        정보기술자격(ITQ)OA마스터\\n ...</td>\n",
       "      <td>2</td>\n",
       "    </tr>\n",
       "    <tr>\n",
       "      <th>3</th>\n",
       "      <td>경력\\n(5년)\\n    \\n    \\n      \\n        \\n      ...</td>\n",
       "      <td>학력\\n    \\n      \\n        \\n          \\n      ...</td>\n",
       "      <td>프로젝트\\n    \\n      \\n        \\n          그래픽디자인...</td>\n",
       "      <td></td>\n",
       "      <td></td>\n",
       "      <td>자격증\\n    \\n      \\n        컴퓨터그래픽스운용기능사\\n     ...</td>\n",
       "      <td>3</td>\n",
       "    </tr>\n",
       "    <tr>\n",
       "      <th>4</th>\n",
       "      <td>경력\\n(4년 7개월)\\n    \\n    \\n      \\n        \\n  ...</td>\n",
       "      <td>학력\\n    \\n      \\n        \\n          \\n      ...</td>\n",
       "      <td>프로젝트\\n    \\n      \\n        \\n          \\n    ...</td>\n",
       "      <td>언어\\n    \\n      \\n        영어\\n        \\n      ...</td>\n",
       "      <td>수상\\n    \\n      \\n        Startup Weekend Seou...</td>\n",
       "      <td></td>\n",
       "      <td>4</td>\n",
       "    </tr>\n",
       "  </tbody>\n",
       "</table>\n",
       "</div>"
      ],
      "text/plain": [
       "                                              career  \\\n",
       "0  경력\\n(2년 3개월)\\n    \\n    \\n      \\n        \\n  ...   \n",
       "1  경력\\n\\n    \\n    \\n      \\n        \\n          ...   \n",
       "2  경력\\n(5년 8개월)\\n    \\n    \\n      \\n        \\n  ...   \n",
       "3  경력\\n(5년)\\n    \\n    \\n      \\n        \\n      ...   \n",
       "4  경력\\n(4년 7개월)\\n    \\n    \\n      \\n        \\n  ...   \n",
       "\n",
       "                                              school  \\\n",
       "0  학력\\n    \\n      \\n        \\n          \\n      ...   \n",
       "1                                                      \n",
       "2  학력\\n    \\n      \\n        \\n          \\n      ...   \n",
       "3  학력\\n    \\n      \\n        \\n          \\n      ...   \n",
       "4  학력\\n    \\n      \\n        \\n          \\n      ...   \n",
       "\n",
       "                                             project  \\\n",
       "0  프로젝트\\n    \\n      \\n        \\n          홍보\\n, ...   \n",
       "1                                                      \n",
       "2  프로젝트\\n    \\n      \\n        \\n          uWSGI\\...   \n",
       "3  프로젝트\\n    \\n      \\n        \\n          그래픽디자인...   \n",
       "4  프로젝트\\n    \\n      \\n        \\n          \\n    ...   \n",
       "\n",
       "                                            language  \\\n",
       "0  언어\\n    \\n      \\n        영어\\n        \\n      ...   \n",
       "1                                                      \n",
       "2                                                      \n",
       "3                                                      \n",
       "4  언어\\n    \\n      \\n        영어\\n        \\n      ...   \n",
       "\n",
       "                                               award  \\\n",
       "0                                                      \n",
       "1                                                      \n",
       "2                                                      \n",
       "3                                                      \n",
       "4  수상\\n    \\n      \\n        Startup Weekend Seou...   \n",
       "\n",
       "                                         certificate  id  \n",
       "0  자격증\\n    \\n      \\n        Google Analytics In...   0  \n",
       "1                                                      1  \n",
       "2  자격증\\n    \\n      \\n        정보기술자격(ITQ)OA마스터\\n ...   2  \n",
       "3  자격증\\n    \\n      \\n        컴퓨터그래픽스운용기능사\\n     ...   3  \n",
       "4                                                      4  "
      ]
     },
     "execution_count": 6,
     "metadata": {},
     "output_type": "execute_result"
    }
   ],
   "source": [
    "data.head()"
   ]
  },
  {
   "cell_type": "code",
   "execution_count": 7,
   "metadata": {},
   "outputs": [],
   "source": [
    "data['career'] = preprocess.career(data)['career']\n",
    "data['school'] = preprocess.school(data)['school']\n",
    "\n",
    "data['skill'] = preprocess.skill(data)['skill']\n",
    "data = data.drop(['project'], axis=1)\n",
    "\n",
    "data['language'] = preprocess.language(data)['language']\n",
    "data['award'] = preprocess.award(data)['award']\n",
    "data['certiricate'] = preprocess.certificate(data)['certificate']\n",
    "\n",
    "data = data.loc[:, ['id', 'career', 'school', 'skill', 'language', 'award', 'certiricate']]"
   ]
  },
  {
   "cell_type": "code",
   "execution_count": 8,
   "metadata": {},
   "outputs": [
    {
     "data": {
      "text/html": [
       "<div>\n",
       "<style scoped>\n",
       "    .dataframe tbody tr th:only-of-type {\n",
       "        vertical-align: middle;\n",
       "    }\n",
       "\n",
       "    .dataframe tbody tr th {\n",
       "        vertical-align: top;\n",
       "    }\n",
       "\n",
       "    .dataframe thead th {\n",
       "        text-align: right;\n",
       "    }\n",
       "</style>\n",
       "<table border=\"1\" class=\"dataframe\">\n",
       "  <thead>\n",
       "    <tr style=\"text-align: right;\">\n",
       "      <th></th>\n",
       "      <th>id</th>\n",
       "      <th>career</th>\n",
       "      <th>school</th>\n",
       "      <th>skill</th>\n",
       "      <th>language</th>\n",
       "      <th>award</th>\n",
       "      <th>certiricate</th>\n",
       "    </tr>\n",
       "  </thead>\n",
       "  <tbody>\n",
       "    <tr>\n",
       "      <th>0</th>\n",
       "      <td>0</td>\n",
       "      <td>[(나이키(Nike), 2020년 6월 - 현재 | 4개월), (제일기획(Cheil...</td>\n",
       "      <td>[동국대학교, 정치외교학과 전공(학사), 경상대학 국제통상학과 복수전공(학사), 2...</td>\n",
       "      <td>[홍보, 이벤트기획, 이벤트마케팅]</td>\n",
       "      <td>[영어, 고급(자유자재의 의사소통)]</td>\n",
       "      <td>[]</td>\n",
       "      <td>[[GoogleAnalyticsIndividualQualification, Goog...</td>\n",
       "    </tr>\n",
       "    <tr>\n",
       "      <th>1</th>\n",
       "      <td>1</td>\n",
       "      <td>[]</td>\n",
       "      <td>[]</td>\n",
       "      <td>[]</td>\n",
       "      <td>[]</td>\n",
       "      <td>[]</td>\n",
       "      <td>[]</td>\n",
       "    </tr>\n",
       "    <tr>\n",
       "      <th>2</th>\n",
       "      <td>2</td>\n",
       "      <td>[(와이폴라리스(ypolaris), 2020년 2월 - 2020년 4월 | 2개월)...</td>\n",
       "      <td>[경남정보대학교, 컴퓨터공학과 전공(전문학사), 2009년 - 2014년 졸업]</td>\n",
       "      <td>[uWSGI, python3, Amazon AWS, Back-end, python ...</td>\n",
       "      <td>[]</td>\n",
       "      <td>[]</td>\n",
       "      <td>[[정보기술자격(ITQ)OA마스터, 한국생산성본부(KPC)], [정보기기운용기능사,...</td>\n",
       "    </tr>\n",
       "    <tr>\n",
       "      <th>3</th>\n",
       "      <td>3</td>\n",
       "      <td>[(코어라인소프트, 2015년 10월 - 현재 | 5년)]</td>\n",
       "      <td>[경남대학교, 시각디자인 전공(학사), 2008년 - 2013년 졸업]</td>\n",
       "      <td>[그래픽디자인, 모바일디자인, UI/UX디자인]</td>\n",
       "      <td>[]</td>\n",
       "      <td>[]</td>\n",
       "      <td>[[컴퓨터그래픽스운용기능사, 한국산업인력공단, 2012년12월취득]]</td>\n",
       "    </tr>\n",
       "    <tr>\n",
       "      <th>4</th>\n",
       "      <td>4</td>\n",
       "      <td>[(센드버드(Sendbird), 2019년 3월 - 현재 | 1년 7개월), (에이...</td>\n",
       "      <td>[서강대학교, 전자공학과 전공(학사), 2011년 - 2017년 졸업, 프로젝트 :...</td>\n",
       "      <td>[]</td>\n",
       "      <td>[영어, 중급(업무상 의사소통 가능)]</td>\n",
       "      <td>[]</td>\n",
       "      <td>[]</td>\n",
       "    </tr>\n",
       "  </tbody>\n",
       "</table>\n",
       "</div>"
      ],
      "text/plain": [
       "   id                                             career  \\\n",
       "0   0  [(나이키(Nike), 2020년 6월 - 현재 | 4개월), (제일기획(Cheil...   \n",
       "1   1                                                 []   \n",
       "2   2  [(와이폴라리스(ypolaris), 2020년 2월 - 2020년 4월 | 2개월)...   \n",
       "3   3                   [(코어라인소프트, 2015년 10월 - 현재 | 5년)]   \n",
       "4   4  [(센드버드(Sendbird), 2019년 3월 - 현재 | 1년 7개월), (에이...   \n",
       "\n",
       "                                              school  \\\n",
       "0  [동국대학교, 정치외교학과 전공(학사), 경상대학 국제통상학과 복수전공(학사), 2...   \n",
       "1                                                 []   \n",
       "2       [경남정보대학교, 컴퓨터공학과 전공(전문학사), 2009년 - 2014년 졸업]   \n",
       "3            [경남대학교, 시각디자인 전공(학사), 2008년 - 2013년 졸업]   \n",
       "4  [서강대학교, 전자공학과 전공(학사), 2011년 - 2017년 졸업, 프로젝트 :...   \n",
       "\n",
       "                                               skill               language  \\\n",
       "0                                [홍보, 이벤트기획, 이벤트마케팅]   [영어, 고급(자유자재의 의사소통)]   \n",
       "1                                                 []                     []   \n",
       "2  [uWSGI, python3, Amazon AWS, Back-end, python ...                     []   \n",
       "3                         [그래픽디자인, 모바일디자인, UI/UX디자인]                     []   \n",
       "4                                                 []  [영어, 중급(업무상 의사소통 가능)]   \n",
       "\n",
       "  award                                        certiricate  \n",
       "0    []  [[GoogleAnalyticsIndividualQualification, Goog...  \n",
       "1    []                                                 []  \n",
       "2    []  [[정보기술자격(ITQ)OA마스터, 한국생산성본부(KPC)], [정보기기운용기능사,...  \n",
       "3    []             [[컴퓨터그래픽스운용기능사, 한국산업인력공단, 2012년12월취득]]  \n",
       "4    []                                                 []  "
      ]
     },
     "execution_count": 8,
     "metadata": {},
     "output_type": "execute_result"
    }
   ],
   "source": [
    "data.head()"
   ]
  },
  {
   "cell_type": "code",
   "execution_count": null,
   "metadata": {},
   "outputs": [],
   "source": []
  }
 ],
 "metadata": {
  "kernelspec": {
   "display_name": "conf",
   "language": "python",
   "name": "conf"
  },
  "language_info": {
   "codemirror_mode": {
    "name": "ipython",
    "version": 3
   },
   "file_extension": ".py",
   "mimetype": "text/x-python",
   "name": "python",
   "nbconvert_exporter": "python",
   "pygments_lexer": "ipython3",
   "version": "3.7.4"
  }
 },
 "nbformat": 4,
 "nbformat_minor": 4
}
