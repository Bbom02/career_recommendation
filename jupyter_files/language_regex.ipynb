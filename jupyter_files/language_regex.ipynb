{
 "cells": [
  {
   "cell_type": "code",
   "execution_count": 1,
   "metadata": {},
   "outputs": [],
   "source": [
    "import re\n",
    "import pandas as pd"
   ]
  },
  {
   "cell_type": "code",
   "execution_count": 2,
   "metadata": {},
   "outputs": [],
   "source": [
    "data = pd.read_csv('./rocket.csv')"
   ]
  },
  {
   "cell_type": "code",
   "execution_count": 3,
   "metadata": {},
   "outputs": [],
   "source": [
    "data = data.fillna('') # nan이 float이라 str로 대체"
   ]
  },
  {
   "cell_type": "code",
   "execution_count": 4,
   "metadata": {},
   "outputs": [
    {
     "data": {
      "text/plain": [
       "'언어\\n    \\n      \\n        한국어\\n        \\n          원어민 수준\\n        \\n      \\n    \\n      \\n        일본어\\n        \\n          고급(자유자재의 의사소통)\\n        \\n      \\n    \\n      \\n        중국어\\n        \\n          고급(자유자재의 의사소통)\\n        \\n      \\n    \\n      \\n        영어\\n        \\n          중상급(업무상 원활한 의사소통)\\n        \\n      \\n    \\n      \\n        독일어\\n        \\n          중급(업무상 의사소통 가능)\\n        \\n      \\n    \\n      \\n        에스페란토\\n        \\n          중급(업무상 의사소통 가능)\\n        \\n      \\n    \\n      \\n        에스토니아어\\n        \\n          초급\\n        \\n      \\n    \\n      \\n        타이어\\n        \\n          초급'"
      ]
     },
     "execution_count": 4,
     "metadata": {},
     "output_type": "execute_result"
    }
   ],
   "source": [
    "max(list(data['language']), key=len) # 가장 긴 문자열"
   ]
  },
  {
   "cell_type": "code",
   "execution_count": 5,
   "metadata": {},
   "outputs": [],
   "source": [
    "data['language'] = data['language'].str.split('\\r?\\n\\s+') # 공백문자 제거"
   ]
  },
  {
   "cell_type": "code",
   "execution_count": 6,
   "metadata": {},
   "outputs": [
    {
     "data": {
      "text/plain": [
       "['언어',\n",
       " '한국어',\n",
       " '원어민 수준',\n",
       " '일본어',\n",
       " '고급(자유자재의 의사소통)',\n",
       " '중국어',\n",
       " '고급(자유자재의 의사소통)',\n",
       " '영어',\n",
       " '중상급(업무상 원활한 의사소통)',\n",
       " '독일어',\n",
       " '중급(업무상 의사소통 가능)',\n",
       " '에스페란토',\n",
       " '중급(업무상 의사소통 가능)',\n",
       " '에스토니아어',\n",
       " '초급',\n",
       " '타이어',\n",
       " '초급']"
      ]
     },
     "execution_count": 6,
     "metadata": {},
     "output_type": "execute_result"
    }
   ],
   "source": [
    "max(list(data['language']), key=len) # 가장 긴 문자열이 어떻게 바뀌었는지 확인"
   ]
  },
  {
   "cell_type": "code",
   "execution_count": 7,
   "metadata": {},
   "outputs": [],
   "source": [
    "for i in range(len(data['language'])):\n",
    "    if data['language'].iloc[i] != []:\n",
    "        data['language'].iloc[i].pop(0) # 맨 앞 '언어' 지우기"
   ]
  },
  {
   "cell_type": "code",
   "execution_count": 8,
   "metadata": {},
   "outputs": [
    {
     "data": {
      "text/plain": [
       "['한국어',\n",
       " '원어민 수준',\n",
       " '일본어',\n",
       " '고급(자유자재의 의사소통)',\n",
       " '중국어',\n",
       " '고급(자유자재의 의사소통)',\n",
       " '영어',\n",
       " '중상급(업무상 원활한 의사소통)',\n",
       " '독일어',\n",
       " '중급(업무상 의사소통 가능)',\n",
       " '에스페란토',\n",
       " '중급(업무상 의사소통 가능)',\n",
       " '에스토니아어',\n",
       " '초급',\n",
       " '타이어',\n",
       " '초급']"
      ]
     },
     "execution_count": 8,
     "metadata": {},
     "output_type": "execute_result"
    }
   ],
   "source": [
    "max(list(data['language']), key=len) # 가장 긴 문자열"
   ]
  },
  {
   "cell_type": "code",
   "execution_count": 9,
   "metadata": {},
   "outputs": [
    {
     "data": {
      "text/plain": [
       "0         [영어, 고급(자유자재의 의사소통)]\n",
       "1                           []\n",
       "2                           []\n",
       "3                           []\n",
       "4        [영어, 중급(업무상 의사소통 가능)]\n",
       "                 ...          \n",
       "78130                       []\n",
       "78131                       []\n",
       "78132                       []\n",
       "78133                       []\n",
       "78134     [영어, 고급(자유자재의 의사소통)]\n",
       "Name: language, Length: 78135, dtype: object"
      ]
     },
     "execution_count": 9,
     "metadata": {},
     "output_type": "execute_result"
    }
   ],
   "source": [
    "data['language'] # n행은 언어, n+1행은 해당 언어의 레벨로 구분할 수 있음"
   ]
  }
 ],
 "metadata": {
  "kernelspec": {
   "display_name": "Python 3",
   "language": "python",
   "name": "python3"
  },
  "language_info": {
   "codemirror_mode": {
    "name": "ipython",
    "version": 3
   },
   "file_extension": ".py",
   "mimetype": "text/x-python",
   "name": "python",
   "nbconvert_exporter": "python",
   "pygments_lexer": "ipython3",
   "version": "3.7.4"
  }
 },
 "nbformat": 4,
 "nbformat_minor": 4
}
