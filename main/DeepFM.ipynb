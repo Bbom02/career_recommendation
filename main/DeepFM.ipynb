{
 "cells": [
  {
   "cell_type": "code",
   "execution_count": 1,
   "metadata": {},
   "outputs": [],
   "source": [
    "# !pip install -U deepctr-torch\n",
    "# !git clone https://github.com/jaeyoung-kang/career_recommendation.git\n",
    "\n",
    "# import sys\n",
    "# sys.path.append('./career_recommendation')"
   ]
  },
  {
   "cell_type": "code",
   "execution_count": 2,
   "metadata": {},
   "outputs": [],
   "source": [
    "import sys\n",
    "sys.path.append('..')"
   ]
  },
  {
   "cell_type": "code",
   "execution_count": 3,
   "metadata": {
    "scrolled": true
   },
   "outputs": [
    {
     "name": "stderr",
     "output_type": "stream",
     "text": [
      "/Users/m/.pyenv/versions/local/lib/python3.7/site-packages/pandas/compat/__init__.py:117: UserWarning: Could not import the lzma module. Your installed Python is incomplete. Attempting to use lzma compression will result in a RuntimeError.\n",
      "  warnings.warn(msg)\n"
     ]
    }
   ],
   "source": [
    "import numpy as np\n",
    "import pandas as pd\n",
    "import random\n",
    "from sklearn.metrics import confusion_matrix\n",
    "\n",
    "from src.model import DeepFMTrainer\n",
    "from src.utils import MajorCleaner\n",
    "from src.dataset.augmentation import make_binary_target"
   ]
  },
  {
   "cell_type": "code",
   "execution_count": 4,
   "metadata": {},
   "outputs": [],
   "source": [
    "data_path = '/Users/m/localspace/career_recommendation/data/school_variable_major.csv'\n",
    "epochs = 30"
   ]
  },
  {
   "cell_type": "markdown",
   "metadata": {},
   "source": [
    "# Data Load"
   ]
  },
  {
   "cell_type": "code",
   "execution_count": 5,
   "metadata": {},
   "outputs": [],
   "source": [
    "data = pd.read_csv(data_path).sort_values('id')"
   ]
  },
  {
   "cell_type": "code",
   "execution_count": 6,
   "metadata": {},
   "outputs": [],
   "source": [
    "data['field'] = data['field'].str.split(',')\n",
    "data = data.explode('field')\n",
    "data = make_binary_target(data, 'field')\n",
    "data['field'] = data['field'].str.strip()"
   ]
  },
  {
   "cell_type": "code",
   "execution_count": 7,
   "metadata": {},
   "outputs": [],
   "source": [
    "data['school_major_name'] = data['school_major_name'].str.split(',')"
   ]
  },
  {
   "cell_type": "markdown",
   "metadata": {},
   "source": [
    "# Data Split"
   ]
  },
  {
   "cell_type": "code",
   "execution_count": 8,
   "metadata": {},
   "outputs": [],
   "source": [
    "index_list = list(range(len(data)))\n",
    "random.shuffle(index_list)\n",
    "\n",
    "data = data.iloc[index_list]"
   ]
  },
  {
   "cell_type": "code",
   "execution_count": 9,
   "metadata": {},
   "outputs": [],
   "source": [
    "train_len = int(len(data) * 0.8)\n",
    "train_data = data.iloc[:train_len]\n",
    "test_data = data.iloc[train_len:]"
   ]
  },
  {
   "cell_type": "markdown",
   "metadata": {},
   "source": [
    "# Trainer"
   ]
  },
  {
   "cell_type": "code",
   "execution_count": 10,
   "metadata": {},
   "outputs": [],
   "source": [
    "target = ['target']\n",
    "sparse_features = [\n",
    "    \"school_major_state\", #\"school_name\",\n",
    "    \"school_major_level\", \"school_start\",\n",
    "    \"school_end\", \"school_state\", \"field\",\n",
    "]\n",
    "variable_length_sparse_feature = \"school_major_name\"\n"
   ]
  },
  {
   "cell_type": "code",
   "execution_count": 11,
   "metadata": {},
   "outputs": [],
   "source": [
    "deepfm = DeepFMTrainer(\n",
    "    target=target,\n",
    "    sparse_features=sparse_features,\n",
    "    variable_length_feature=variable_length_sparse_feature,\n",
    ")"
   ]
  },
  {
   "cell_type": "markdown",
   "metadata": {},
   "source": [
    "# Fit"
   ]
  },
  {
   "cell_type": "code",
   "execution_count": 12,
   "metadata": {},
   "outputs": [
    {
     "name": "stdout",
     "output_type": "stream",
     "text": [
      "Label Encoding ...\n",
      "\n",
      "Build Model ...\n",
      "\n",
      "Model Input ...\n",
      "\texmple)\n",
      "\t school_major_state :  6\n",
      "\t school_major_level :  7\n",
      "\t school_start :  33\n",
      "\t school_end :  29\n",
      "\t school_state :  7\n",
      "\t field :  5\n",
      "\t school_major_name :  [46  0  0  0]\n",
      "\n",
      "cpu\n",
      "Train on 105088 samples, validate on 26273 samples, 411 steps per epoch\n",
      "Epoch 1/30\n",
      "7s - loss:  0.6464 - accuracy:  0.6270 - val_accuracy:  0.6470\n",
      "Epoch 2/30\n",
      "7s - loss:  0.6180 - accuracy:  0.6525 - val_accuracy:  0.6667\n",
      "Epoch 3/30\n",
      "7s - loss:  0.6094 - accuracy:  0.6688 - val_accuracy:  0.6693\n",
      "Epoch 4/30\n",
      "7s - loss:  0.6009 - accuracy:  0.6730 - val_accuracy:  0.6729\n",
      "Epoch 5/30\n",
      "7s - loss:  0.5927 - accuracy:  0.6778 - val_accuracy:  0.6800\n",
      "Epoch 6/30\n",
      "7s - loss:  0.5893 - accuracy:  0.6802 - val_accuracy:  0.6814\n",
      "Epoch 7/30\n",
      "7s - loss:  0.5879 - accuracy:  0.6819 - val_accuracy:  0.6818\n",
      "Epoch 8/30\n",
      "7s - loss:  0.5871 - accuracy:  0.6821 - val_accuracy:  0.6815\n",
      "Epoch 9/30\n",
      "7s - loss:  0.5862 - accuracy:  0.6821 - val_accuracy:  0.6821\n",
      "Epoch 10/30\n",
      "7s - loss:  0.5849 - accuracy:  0.6830 - val_accuracy:  0.6810\n",
      "Epoch 11/30\n",
      "7s - loss:  0.5844 - accuracy:  0.6839 - val_accuracy:  0.6841\n",
      "Epoch 12/30\n",
      "7s - loss:  0.5841 - accuracy:  0.6844 - val_accuracy:  0.6827\n",
      "Epoch 13/30\n",
      "7s - loss:  0.5833 - accuracy:  0.6843 - val_accuracy:  0.6844\n",
      "Epoch 14/30\n",
      "7s - loss:  0.5832 - accuracy:  0.6841 - val_accuracy:  0.6839\n",
      "Epoch 15/30\n",
      "7s - loss:  0.5821 - accuracy:  0.6847 - val_accuracy:  0.6824\n",
      "Epoch 16/30\n",
      "7s - loss:  0.5817 - accuracy:  0.6862 - val_accuracy:  0.6842\n",
      "Epoch 17/30\n",
      "7s - loss:  0.5811 - accuracy:  0.6866 - val_accuracy:  0.6796\n",
      "Epoch 18/30\n",
      "6s - loss:  0.5807 - accuracy:  0.6864 - val_accuracy:  0.6857\n",
      "Epoch 19/30\n",
      "6s - loss:  0.5805 - accuracy:  0.6868 - val_accuracy:  0.6764\n",
      "Epoch 20/30\n",
      "6s - loss:  0.5798 - accuracy:  0.6880 - val_accuracy:  0.6828\n",
      "Epoch 21/30\n",
      "6s - loss:  0.5794 - accuracy:  0.6881 - val_accuracy:  0.6834\n",
      "Epoch 22/30\n",
      "6s - loss:  0.5786 - accuracy:  0.6883 - val_accuracy:  0.6820\n",
      "Epoch 23/30\n",
      "6s - loss:  0.5786 - accuracy:  0.6888 - val_accuracy:  0.6841\n",
      "Epoch 24/30\n",
      "6s - loss:  0.5779 - accuracy:  0.6888 - val_accuracy:  0.6827\n",
      "Epoch 25/30\n",
      "6s - loss:  0.5776 - accuracy:  0.6887 - val_accuracy:  0.6827\n",
      "Epoch 26/30\n",
      "6s - loss:  0.5769 - accuracy:  0.6898 - val_accuracy:  0.6827\n",
      "Epoch 27/30\n",
      "6s - loss:  0.5766 - accuracy:  0.6910 - val_accuracy:  0.6824\n",
      "Epoch 28/30\n",
      "6s - loss:  0.5764 - accuracy:  0.6908 - val_accuracy:  0.6820\n",
      "Epoch 29/30\n",
      "6s - loss:  0.5759 - accuracy:  0.6908 - val_accuracy:  0.6797\n",
      "Epoch 30/30\n",
      "6s - loss:  0.5761 - accuracy:  0.6914 - val_accuracy:  0.6797\n"
     ]
    }
   ],
   "source": [
    "deepfm.fit(\n",
    "    train_data, \n",
    "    epochs=epochs,\n",
    ")"
   ]
  },
  {
   "cell_type": "markdown",
   "metadata": {},
   "source": [
    "# Predict"
   ]
  },
  {
   "cell_type": "code",
   "execution_count": 13,
   "metadata": {},
   "outputs": [],
   "source": [
    "predict = deepfm.predict(\n",
    "    test_data,\n",
    ")"
   ]
  },
  {
   "cell_type": "markdown",
   "metadata": {},
   "source": [
    "## Evaluate"
   ]
  },
  {
   "cell_type": "code",
   "execution_count": 14,
   "metadata": {},
   "outputs": [
    {
     "name": "stdout",
     "output_type": "stream",
     "text": [
      "0.6739441551718888\n"
     ]
    }
   ],
   "source": [
    "predict[predict < 0.5] = 0\n",
    "predict[predict >= 0.5] = 1\n",
    "\n",
    "tn, fp, fn, tp = confusion_matrix(\n",
    "    test_data[target].values, predict,\n",
    ").ravel()\n",
    "\n",
    "\n",
    "acc = sum([tn, tp]) / sum([tn, fp, fn, tp])\n",
    "print(acc)"
   ]
  },
  {
   "cell_type": "code",
   "execution_count": 15,
   "metadata": {},
   "outputs": [
    {
     "data": {
      "text/plain": [
       "(10118, 6327, 4381, 12015)"
      ]
     },
     "execution_count": 15,
     "metadata": {},
     "output_type": "execute_result"
    }
   ],
   "source": [
    "tn, fp, fn, tp "
   ]
  },
  {
   "cell_type": "code",
   "execution_count": null,
   "metadata": {},
   "outputs": [],
   "source": []
  }
 ],
 "metadata": {
  "kernelspec": {
   "display_name": "local",
   "language": "python",
   "name": "local"
  },
  "language_info": {
   "codemirror_mode": {
    "name": "ipython",
    "version": 3
   },
   "file_extension": ".py",
   "mimetype": "text/x-python",
   "name": "python",
   "nbconvert_exporter": "python",
   "pygments_lexer": "ipython3",
   "version": "3.7.4"
  }
 },
 "nbformat": 4,
 "nbformat_minor": 4
}
