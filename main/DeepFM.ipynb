{
 "cells": [
  {
   "cell_type": "code",
   "execution_count": null,
   "metadata": {},
   "outputs": [],
   "source": [
    "# !pip install -U deepctr-torch\n",
    "# !git clone https://github.com/jaeyoung-kang/career_recommendation.git\n",
    "\n",
    "# import sys\n",
    "# sys.path.append('./career_recommendation')"
   ]
  },
  {
   "cell_type": "code",
   "execution_count": null,
   "metadata": {},
   "outputs": [],
   "source": [
    "import sys\n",
    "sys.path.append('..')"
   ]
  },
  {
   "cell_type": "code",
   "execution_count": null,
   "metadata": {
    "scrolled": true
   },
   "outputs": [],
   "source": [
    "import numpy as np\n",
    "import pandas as pd\n",
    "import random\n",
    "from sklearn.metrics import confusion_matrix\n",
    "\n",
    "from src.model import DeepFMTrainer\n",
    "from src.utils import MajorCleaner\n",
    "from src.dataset.augmentation import make_binary_target"
   ]
  },
  {
   "cell_type": "code",
   "execution_count": null,
   "metadata": {},
   "outputs": [],
   "source": [
    "data_path = '/Users/m/localspace/career_recommendation/data/merge_data.csv'\n",
    "epochs = 3\n",
    "target_col = 'career_task'"
   ]
  },
  {
   "cell_type": "markdown",
   "metadata": {},
   "source": [
    "# Data Load"
   ]
  },
  {
   "cell_type": "code",
   "execution_count": null,
   "metadata": {},
   "outputs": [],
   "source": [
    "data = pd.read_csv(data_path).sort_values('id')"
   ]
  },
  {
   "cell_type": "markdown",
   "metadata": {},
   "source": [
    "# Data Split"
   ]
  },
  {
   "cell_type": "code",
   "execution_count": null,
   "metadata": {},
   "outputs": [],
   "source": [
    "index_list = list(range(len(data)))\n",
    "random.shuffle(index_list)\n",
    "\n",
    "data = data.iloc[index_list]"
   ]
  },
  {
   "cell_type": "code",
   "execution_count": null,
   "metadata": {},
   "outputs": [],
   "source": [
    "train_len = int(len(data) * 0.8)\n",
    "train_data = data.iloc[:train_len]\n",
    "test_data = data.iloc[train_len:].sort_index()"
   ]
  },
  {
   "cell_type": "markdown",
   "metadata": {},
   "source": [
    "# Data Preprocessing"
   ]
  },
  {
   "cell_type": "code",
   "execution_count": null,
   "metadata": {},
   "outputs": [],
   "source": [
    "def preproc(\n",
    "    data,\n",
    "    target_col,\n",
    "    positive_ratio=0.5\n",
    "):\n",
    "    data = data.copy()\n",
    "    data[target_col] = data[target_col].fillna('')\n",
    "    data[target_col] = data[target_col].str.strip() # naive preprocessing\n",
    "    data = make_binary_target(\n",
    "        data, \n",
    "        target_col, \n",
    "        positive_ratio=positive_ratio,\n",
    "    )\n",
    "\n",
    "    data['school_major_name'] = data['school_major_name'].str.split(',')\n",
    "    data['skill'] = data['skill'].str.split(',')\n",
    "    \n",
    "    return data"
   ]
  },
  {
   "cell_type": "code",
   "execution_count": null,
   "metadata": {},
   "outputs": [],
   "source": [
    "train_data = preproc(\n",
    "    train_data,\n",
    "    target_col=target_col,\n",
    ")\n",
    "\n",
    "test_data = preproc(\n",
    "    test_data,\n",
    "    target_col=target_col,\n",
    "    positive_ratio=0,\n",
    ")"
   ]
  },
  {
   "cell_type": "code",
   "execution_count": null,
   "metadata": {},
   "outputs": [],
   "source": [
    "train_data.columns"
   ]
  },
  {
   "cell_type": "markdown",
   "metadata": {},
   "source": [
    "# Trainer"
   ]
  },
  {
   "cell_type": "code",
   "execution_count": null,
   "metadata": {},
   "outputs": [],
   "source": [
    "deepfm_target = ['label']\n",
    "sparse_features = [\n",
    "    'career_name', 'career_start', 'career_end', 'career_period',\n",
    "    'career_turn', 'career_sum_period', 'career_가입자수',\n",
    "    'career_당월고지금액', 'certificate_name', 'certificate_year',\n",
    "    'school_name', 'school_major_state',\n",
    "    'school_major_level', 'school_start', 'school_end', 'school_state',\n",
    "    '기타', '독일어', '러시아어', '베트남어', '에스파냐어', '영어', '인도네시아어', '일본어', '중국어',\n",
    "    '프랑스어', 'award', 'accum_count', 'career_task',\n",
    "]\n",
    "variable_length_sparse_features = [\n",
    "    \"school_major_name\", 'skill'\n",
    "]\n"
   ]
  },
  {
   "cell_type": "code",
   "execution_count": null,
   "metadata": {},
   "outputs": [],
   "source": [
    "deepfm = DeepFMTrainer(\n",
    "    target=deepfm_target,\n",
    "    sparse_features=sparse_features,\n",
    "    variable_length_features=variable_length_sparse_features,\n",
    ")"
   ]
  },
  {
   "cell_type": "markdown",
   "metadata": {},
   "source": [
    "# Fit"
   ]
  },
  {
   "cell_type": "code",
   "execution_count": null,
   "metadata": {},
   "outputs": [],
   "source": [
    "deepfm.fit(\n",
    "    train_data, \n",
    "    epochs=epochs,\n",
    ")"
   ]
  },
  {
   "cell_type": "markdown",
   "metadata": {},
   "source": [
    "# Predict"
   ]
  },
  {
   "cell_type": "code",
   "execution_count": null,
   "metadata": {},
   "outputs": [],
   "source": [
    "predict = deepfm.predict(\n",
    "    test_data,\n",
    ")"
   ]
  },
  {
   "cell_type": "code",
   "execution_count": null,
   "metadata": {},
   "outputs": [],
   "source": [
    "test_data['predict'] = predict"
   ]
  },
  {
   "cell_type": "markdown",
   "metadata": {},
   "source": [
    "## Evaluate"
   ]
  },
  {
   "cell_type": "code",
   "execution_count": null,
   "metadata": {},
   "outputs": [],
   "source": [
    "# id별로 predict 값이 가장 큰 index \n",
    "predict_data = test_data.loc[\n",
    "    test_data.groupby('id')['predict'].idxmax().tolist()\n",
    "]"
   ]
  },
  {
   "cell_type": "code",
   "execution_count": null,
   "metadata": {},
   "outputs": [],
   "source": [
    "predict_data"
   ]
  },
  {
   "cell_type": "code",
   "execution_count": null,
   "metadata": {},
   "outputs": [],
   "source": [
    "predict_data['label'].mean()"
   ]
  },
  {
   "cell_type": "code",
   "execution_count": null,
   "metadata": {},
   "outputs": [],
   "source": []
  },
  {
   "cell_type": "code",
   "execution_count": null,
   "metadata": {},
   "outputs": [],
   "source": []
  },
  {
   "cell_type": "code",
   "execution_count": null,
   "metadata": {},
   "outputs": [],
   "source": []
  },
  {
   "cell_type": "code",
   "execution_count": null,
   "metadata": {},
   "outputs": [],
   "source": []
  },
  {
   "cell_type": "code",
   "execution_count": null,
   "metadata": {},
   "outputs": [],
   "source": []
  },
  {
   "cell_type": "code",
   "execution_count": null,
   "metadata": {},
   "outputs": [],
   "source": []
  }
 ],
 "metadata": {
  "kernelspec": {
   "display_name": "local",
   "language": "python",
   "name": "local"
  },
  "language_info": {
   "codemirror_mode": {
    "name": "ipython",
    "version": 3
   },
   "file_extension": ".py",
   "mimetype": "text/x-python",
   "name": "python",
   "nbconvert_exporter": "python",
   "pygments_lexer": "ipython3",
   "version": "3.7.4"
  }
 },
 "nbformat": 4,
 "nbformat_minor": 4
}
