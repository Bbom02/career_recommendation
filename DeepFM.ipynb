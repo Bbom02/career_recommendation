{
 "cells": [
  {
   "cell_type": "code",
   "execution_count": null,
   "metadata": {
    "colab": {
     "base_uri": "https://localhost:8080/"
    },
    "id": "Ytj2-xL1pGzE",
    "outputId": "934df7a6-4277-4f8c-8666-c19af6a6d344"
   },
   "outputs": [],
   "source": [
    "!pip install -U deepctr-torch\n",
    "!git clone https://github.com/jaeyoung-kang/career_recommendation.git"
   ]
  },
  {
   "cell_type": "markdown",
   "metadata": {
    "id": "7HGlZvLVVrcd"
   },
   "source": [
    "# import"
   ]
  },
  {
   "cell_type": "code",
   "execution_count": null,
   "metadata": {
    "id": "AIKKjVFFXt5Q"
   },
   "outputs": [],
   "source": [
    "import sys\n",
    "sys.path.append('./career_recommendation')"
   ]
  },
  {
   "cell_type": "code",
   "execution_count": null,
   "metadata": {
    "id": "ux9pPWP_jrid"
   },
   "outputs": [],
   "source": [
    "import numpy as np\n",
    "import pandas as pd\n",
    "import torch\n",
    "\n",
    "from sklearn.metrics import confusion_matrix\n",
    "\n",
    "from tensorflow.python.keras.preprocessing.sequence import pad_sequences\n",
    "\n",
    "from deepctr_torch.inputs import SparseFeat, VarLenSparseFeat, get_feature_names\n",
    "from deepctr_torch.models import DeepFM"
   ]
  },
  {
   "cell_type": "code",
   "execution_count": null,
   "metadata": {},
   "outputs": [],
   "source": [
    "from src.utils.major_cleaner import MajorCleaner"
   ]
  },
  {
   "cell_type": "code",
   "execution_count": null,
   "metadata": {
    "id": "LEFjiiPSj5K0"
   },
   "outputs": [],
   "source": [
    "from src.utils.label_encoder import MultiFeatureLabelEncoder\n",
    "from src.utils.label_encoder import VariableLenghthLabelEncoder\n",
    "from src.dataset.augmentation import make_binary_target"
   ]
  },
  {
   "cell_type": "code",
   "execution_count": null,
   "metadata": {
    "id": "i6gTL353VuJm"
   },
   "outputs": [],
   "source": []
  },
  {
   "cell_type": "markdown",
   "metadata": {
    "id": "xmyMh7ICVuuc"
   },
   "source": [
    "# data load"
   ]
  },
  {
   "cell_type": "code",
   "execution_count": null,
   "metadata": {},
   "outputs": [],
   "source": [
    "data = pd.read_csv('./data/school.csv').sort_values('id')"
   ]
  },
  {
   "cell_type": "code",
   "execution_count": null,
   "metadata": {},
   "outputs": [],
   "source": [
    "major_cleaner = MajorCleaner(split_section=True)\n",
    "data['school_major_name'] = major_cleaner.transform(data['school_major_name'])\n"
   ]
  },
  {
   "cell_type": "markdown",
   "metadata": {},
   "source": [
    "# binary feature 변환"
   ]
  },
  {
   "cell_type": "code",
   "execution_count": null,
   "metadata": {},
   "outputs": [],
   "source": [
    "data['field'] = data['field'].str.split(',')\n",
    "data = data.explode('field')\n",
    "data = make_binary_target(data, 'field')"
   ]
  },
  {
   "cell_type": "markdown",
   "metadata": {},
   "source": [
    "# feature 설정"
   ]
  },
  {
   "cell_type": "code",
   "execution_count": null,
   "metadata": {
    "id": "DhDTZca4Zz8l"
   },
   "outputs": [],
   "source": [
    "# school 용\n",
    "variable_length_sparse_feature = 'school_major_name'\n",
    "sparse_features = [\"id\", \"school_name\", \"school_major_state\",\n",
    "                   \"school_major_level\", \"school_start\",'school_end',\n",
    "                   'school_state', 'field']\n",
    "target = ['target']\n"
   ]
  },
  {
   "cell_type": "markdown",
   "metadata": {
    "id": "9qJvvxqAWjrj"
   },
   "source": [
    "# train-test 나누기"
   ]
  },
  {
   "cell_type": "code",
   "execution_count": null,
   "metadata": {
    "id": "oz6VKQoqlliR"
   },
   "outputs": [],
   "source": [
    "train_len = int(len(data) * 0.8)\n",
    "train_data = data.iloc[:train_len]\n",
    "test_data = data.iloc[train_len:]"
   ]
  },
  {
   "cell_type": "markdown",
   "metadata": {
    "id": "tTMBF_uYW7tw"
   },
   "source": [
    "# LabelEncoder 적용"
   ]
  },
  {
   "cell_type": "markdown",
   "metadata": {},
   "source": [
    "## MultiFeatureLabelEncoder"
   ]
  },
  {
   "cell_type": "code",
   "execution_count": null,
   "metadata": {
    "id": "u_DVtq6rlwb3"
   },
   "outputs": [],
   "source": [
    "multi_encoder = MultiFeatureLabelEncoder()\n",
    "\n",
    "multi_encoder.fit(train_data, sparse_features)\n",
    "train = multi_encoder.transform(train_data)"
   ]
  },
  {
   "cell_type": "markdown",
   "metadata": {},
   "source": [
    "## VariableLenghthLabelEncoder"
   ]
  },
  {
   "cell_type": "code",
   "execution_count": null,
   "metadata": {},
   "outputs": [],
   "source": [
    "variable_encoder = VariableLenghthLabelEncoder()\n",
    "variable_encoder.fit(train[variable_length_sparse_feature].str.split(','))\n",
    "train[variable_length_sparse_feature] = variable_encoder.transform(\n",
    "    train[variable_length_sparse_feature].str.split(',')\n",
    ")\n",
    "\n",
    "genres_length = np.array(list(map(len, train[variable_length_sparse_feature])))\n",
    "max_len = max(genres_length)\n",
    "\n",
    "train_major_list = pad_sequences(\n",
    "    train[variable_length_sparse_feature], maxlen=max_len, padding='post',\n",
    ")"
   ]
  },
  {
   "cell_type": "markdown",
   "metadata": {
    "id": "mZgjH0qBXCFM"
   },
   "source": [
    "# Feature 생성"
   ]
  },
  {
   "cell_type": "code",
   "execution_count": null,
   "metadata": {
    "id": "MOLl7yXJl2Go"
   },
   "outputs": [],
   "source": [
    "fixlen_feature_columns = [SparseFeat(feat, train[feat].max() + 2, embedding_dim=4)\n",
    "                          for feat in sparse_features]\n",
    "varlen_feature_columns = [\n",
    "    VarLenSparseFeat(\n",
    "        SparseFeat(variable_length_sparse_feature, vocabulary_size=(train_genres_list).max() + 1, embedding_dim=4),\n",
    "        maxlen=max_len,\n",
    "        combiner='mean',\n",
    "    ),\n",
    "] \n",
    "\n",
    "linear_feature_columns = fixlen_feature_columns + varlen_feature_columns\n",
    "dnn_feature_columns = fixlen_feature_columns + varlen_feature_columns\n",
    "\n",
    "feature_names = get_feature_names(linear_feature_columns + dnn_feature_columns)\n"
   ]
  },
  {
   "cell_type": "markdown",
   "metadata": {
    "id": "3sjlJoz4XKHg"
   },
   "source": [
    "# 학습"
   ]
  },
  {
   "cell_type": "code",
   "execution_count": null,
   "metadata": {
    "id": "1w3H3qhXl2tt"
   },
   "outputs": [],
   "source": [
    "model_input = {name: train[name] for name in sparse_features}\n",
    "model_input[variable_length_sparse_feature] = train_major_list"
   ]
  },
  {
   "cell_type": "code",
   "execution_count": null,
   "metadata": {
    "colab": {
     "base_uri": "https://localhost:8080/"
    },
    "id": "iSTFauIxl3vb",
    "outputId": "4ef9c414-8561-4b28-b7c8-7c7df5b07c40"
   },
   "outputs": [],
   "source": [
    "device = 'cpu'\n",
    "use_cuda = True\n",
    "if use_cuda and torch.cuda.is_available():\n",
    "    print('cuda ready...')\n",
    "    device = 'cuda:0'\n",
    "\n",
    "model = DeepFM(linear_feature_columns, dnn_feature_columns, task='binary', device=device)\n",
    "\n",
    "model.compile(\"adam\", \"binary_crossentropy\", metrics=['accuracy'], )\n",
    "history = model.fit(model_input, train[target].values, batch_size=256, epochs=1, verbose=2, validation_split=0.2)\n"
   ]
  },
  {
   "cell_type": "code",
   "execution_count": null,
   "metadata": {
    "id": "KO2qVxLIruDo"
   },
   "outputs": [],
   "source": []
  },
  {
   "cell_type": "markdown",
   "metadata": {
    "id": "rvkbZACWXM13"
   },
   "source": [
    "# 추론"
   ]
  },
  {
   "cell_type": "code",
   "execution_count": null,
   "metadata": {
    "id": "Q57bRHTTo3y0"
   },
   "outputs": [],
   "source": [
    "test = multi_encoder.transform(test_data)"
   ]
  },
  {
   "cell_type": "code",
   "execution_count": null,
   "metadata": {},
   "outputs": [],
   "source": [
    "test[variable_length_sparse_feature] = variable_encoder.transform(\n",
    "    test[variable_length_sparse_feature].str.split(',')\n",
    ")\n",
    "\n",
    "test_major_list = pad_sequences(\n",
    "    test[variable_length_sparse_feature], maxlen=max_len, padding='post',\n",
    ")"
   ]
  },
  {
   "cell_type": "code",
   "execution_count": null,
   "metadata": {
    "id": "xbt6U2sUrXJ3"
   },
   "outputs": [],
   "source": [
    "model_input = {name: test[name] for name in sparse_features}\n",
    "model_input[variable_length_sparse_feature] = test_major_list"
   ]
  },
  {
   "cell_type": "code",
   "execution_count": null,
   "metadata": {
    "id": "ZzjkZDEmrXL0"
   },
   "outputs": [],
   "source": [
    "predict = model.predict(model_input)"
   ]
  },
  {
   "cell_type": "code",
   "execution_count": null,
   "metadata": {},
   "outputs": [],
   "source": [
    "predict[predict<0.5] = 0\n",
    "predict[predict>=0.5] = 1"
   ]
  },
  {
   "cell_type": "code",
   "execution_count": null,
   "metadata": {
    "id": "7uVsYIWcsgRe"
   },
   "outputs": [],
   "source": []
  },
  {
   "cell_type": "code",
   "execution_count": null,
   "metadata": {},
   "outputs": [],
   "source": [
    "tn, fp, fn, tp = confusion_matrix(test[target].values, predict).ravel()"
   ]
  },
  {
   "cell_type": "code",
   "execution_count": null,
   "metadata": {},
   "outputs": [],
   "source": [
    "sum([tn, tp]) / sum([tn, fp, fn, tp])"
   ]
  },
  {
   "cell_type": "code",
   "execution_count": null,
   "metadata": {},
   "outputs": [],
   "source": []
  }
 ],
 "metadata": {
  "accelerator": "GPU",
  "colab": {
   "collapsed_sections": [],
   "name": "movielens.ipynb",
   "provenance": []
  },
  "kernelspec": {
   "display_name": "Python 3",
   "language": "python",
   "name": "python3"
  },
  "language_info": {
   "codemirror_mode": {
    "name": "ipython",
    "version": 3
   },
   "file_extension": ".py",
   "mimetype": "text/x-python",
   "name": "python",
   "nbconvert_exporter": "python",
   "pygments_lexer": "ipython3",
   "version": "3.7.4"
  }
 },
 "nbformat": 4,
 "nbformat_minor": 1
}
